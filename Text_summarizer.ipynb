{
  "nbformat": 4,
  "nbformat_minor": 0,
  "metadata": {
    "colab": {
      "name": "Text summarizer.ipynb",
      "provenance": [],
      "authorship_tag": "ABX9TyMMF2DWPrpddjKtSdDsnwSB",
      "include_colab_link": true
    },
    "kernelspec": {
      "name": "python3",
      "display_name": "Python 3"
    },
    "language_info": {
      "name": "python"
    }
  },
  "cells": [
    {
      "cell_type": "markdown",
      "metadata": {
        "id": "view-in-github",
        "colab_type": "text"
      },
      "source": [
        "<a href=\"https://colab.research.google.com/github/saaz5410/NewsSummarizer/blob/main/Text_summarizer.ipynb\" target=\"_parent\"><img src=\"https://colab.research.google.com/assets/colab-badge.svg\" alt=\"Open In Colab\"/></a>"
      ]
    },
    {
      "cell_type": "code",
      "metadata": {
        "colab": {
          "base_uri": "https://localhost:8080/"
        },
        "id": "uNMGcgJqiC58",
        "outputId": "1bb0491d-b67f-4a69-e5ea-b78cdabc9583"
      },
      "source": [
        "import numpy as np\n",
        "import pandas as pd\n",
        "import matplotlib.pyplot as plt\n",
        "import nltk\n",
        "import re\n",
        "import bs4 as bs\n",
        "import os\n",
        "import heapq\n",
        "nltk.download('stopwords')"
      ],
      "execution_count": 1,
      "outputs": [
        {
          "output_type": "stream",
          "name": "stdout",
          "text": [
            "[nltk_data] Downloading package stopwords to /root/nltk_data...\n",
            "[nltk_data]   Unzipping corpora/stopwords.zip.\n"
          ]
        },
        {
          "output_type": "execute_result",
          "data": {
            "text/plain": [
              "True"
            ]
          },
          "metadata": {},
          "execution_count": 1
        }
      ]
    },
    {
      "cell_type": "code",
      "metadata": {
        "id": "oolGe1bIiLAW"
      },
      "source": [
        "article = \"\"\n",
        "with open(os.path.join(\"Saumya SOP- NEU.docx.txt\"),encoding=\"utf-8\") as f:\n",
        "\tfor line in f:\n",
        "\t\tarticle += str(line)"
      ],
      "execution_count": 4,
      "outputs": []
    },
    {
      "cell_type": "code",
      "metadata": {
        "id": "09SNMJE5i9a3"
      },
      "source": [
        "article = re.sub(r'\\s+',' ',article)\n",
        "\n",
        "clean_article = re.sub(r'\\W',' ',article)\n",
        "clean_article = re.sub(r'\\d',' ',clean_article)\n",
        "clean_article = re.sub(r'\\s+',' ',clean_article)\n"
      ],
      "execution_count": 5,
      "outputs": []
    },
    {
      "cell_type": "code",
      "metadata": {
        "id": "f-0jpbwDjB2L"
      },
      "source": [
        "sentences = nltk.sent_tokenize(article)\n",
        "stop_words = nltk.corpus.stopwords.words('english')"
      ],
      "execution_count": 9,
      "outputs": []
    },
    {
      "cell_type": "code",
      "metadata": {
        "colab": {
          "base_uri": "https://localhost:8080/"
        },
        "id": "Gu0dagLkjOyb",
        "outputId": "10c181c8-cdec-4064-ab6c-afe286a615b3"
      },
      "source": [
        "nltk.download('punkt')"
      ],
      "execution_count": 8,
      "outputs": [
        {
          "output_type": "stream",
          "name": "stdout",
          "text": [
            "[nltk_data] Downloading package punkt to /root/nltk_data...\n",
            "[nltk_data]   Unzipping tokenizers/punkt.zip.\n"
          ]
        },
        {
          "output_type": "execute_result",
          "data": {
            "text/plain": [
              "True"
            ]
          },
          "metadata": {},
          "execution_count": 8
        }
      ]
    },
    {
      "cell_type": "code",
      "metadata": {
        "id": "d1boNJ8xjXNT"
      },
      "source": [
        "word2count = {}\n",
        "\n",
        "for word in nltk.word_tokenize(clean_article):\n",
        "\tif word not in stop_words:\n",
        "\t\tif word not in word2count.keys():\n",
        "\t\t\tword2count[word] = 1\n",
        "\t\telse:\n",
        "\t\t\tword2count[word] += 1\n",
        "\t\t\t\n"
      ],
      "execution_count": 10,
      "outputs": []
    },
    {
      "cell_type": "code",
      "metadata": {
        "id": "B7qHjaFAjbke"
      },
      "source": [
        "for key in word2count.keys():\n",
        "\tword2count[key] = word2count[key]/max(word2count.values())"
      ],
      "execution_count": 11,
      "outputs": []
    },
    {
      "cell_type": "code",
      "metadata": {
        "id": "ZMxyGp2ZjeBi"
      },
      "source": [
        "sent2score  = {}\n",
        "for sentence in sentences:\n",
        "\tfor word in nltk.word_tokenize(sentence.lower()):\n",
        "\t\tif word in word2count.keys():\n",
        "\t\t\tif len(sentence.split(' ')) < 25:\n",
        "\t\t\t\tif sentence not in sent2score.keys():\n",
        "\t\t\t\t\tsent2score[sentence] = word2count[word]\n",
        "\t\t\t\telse:\n",
        "\t\t\t\t\tsent2score[sentence] += word2count[word]"
      ],
      "execution_count": 12,
      "outputs": []
    },
    {
      "cell_type": "code",
      "metadata": {
        "id": "QZeMNKscjgiw"
      },
      "source": [
        "best_sentences = heapq.nlargest(3,sent2score,key = sent2score.get)\n",
        "\n",
        "summary = \"\"\n",
        "\n",
        "for sentence in best_sentences:\n",
        "\tsummary += str(sentence)"
      ],
      "execution_count": 13,
      "outputs": []
    },
    {
      "cell_type": "code",
      "metadata": {
        "colab": {
          "base_uri": "https://localhost:8080/"
        },
        "id": "hX7DUmC0ji46",
        "outputId": "fcd0bd88-4aeb-4d13-897d-9a30d6145349"
      },
      "source": [
        "print(summary)"
      ],
      "execution_count": 15,
      "outputs": [
        {
          "output_type": "stream",
          "name": "stdout",
          "text": [
            "My goal after a full-filled education, is to contribute in the sectors of applied artificial intelligence towards betterment of humankind.Enriching experiences as such with corporate setups, I developed quick, effective techniques & best practices on resolving issues by creating scalable applications.While doing this project, I suggested the use of Dlib, and OpenCV libraries for face detection.\n"
          ]
        }
      ]
    }
  ]
}